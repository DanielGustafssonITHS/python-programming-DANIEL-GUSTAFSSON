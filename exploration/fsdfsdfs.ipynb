{
 "cells": [
  {
   "cell_type": "code",
   "execution_count": null,
   "id": "73dfcc57",
   "metadata": {},
   "outputs": [],
   "source": [
    "import pandas as pd\n",
    "import matplotlib.pyplot as plt\n",
    "\n",
    "data = pd.read_csv(\"data.txt\", header=None, names=[\"width\", \"height\", \"label\"])\n",
    "\n",
    "pikachu = data[data[\"label\"] == 1]\n",
    "pichu = data[data[\"label\"] == 0]\n",
    "\n",
    "plt.scatter(pikachu[\"width\"], pikachu[\"height\"], color='yellow', label='Pikachu', marker='o')\n",
    "plt.scatter(pichu[\"width\"], pichu[\"height\"], color='blue', label='Pichu', marker='x')\n",
    "\n",
    "plt.xlabel(\"Width\")\n",
    "plt.ylabel(\"Height\")\n",
    "plt.legend()\n",
    "plt.title(\"Pokemon Scatter Plot\")\n",
    "plt.grid(True)\n",
    "plt.show()"
   ]
  }
 ],
 "metadata": {
  "language_info": {
   "name": "python"
  }
 },
 "nbformat": 4,
 "nbformat_minor": 5
}
