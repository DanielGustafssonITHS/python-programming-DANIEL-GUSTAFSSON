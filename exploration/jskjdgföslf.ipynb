{
 "cells": [
  {
   "cell_type": "code",
   "execution_count": 2,
   "id": "e0721474",
   "metadata": {},
   "outputs": [
    {
     "name": "stdout",
     "output_type": "stream",
     "text": [
      "[25.0, 24.2, 22.0, 20.5]\n",
      "[32.0, 31.5, 34.0, 34.0]\n",
      "[1, 1, 1, 0]\n"
     ]
    }
   ],
   "source": [
    "# Läsa in  datan i lämplig datastruktur\n",
    "import matplotlib.pyplot as plt\n",
    "import numpy as np\n",
    "import math\n",
    "import random\n",
    "\n",
    "\n",
    "datapoints = []\n",
    "path_datapoints = \"/mnt/c/Users/danie/OneDrive/Skrivbord/labb2/datapoints.txt\"\n",
    "testpoints = []\n",
    "path_testpoints = \"/mnt/c/Users/danie/OneDrive/Skrivbord/labb2/testpoints3.txt\"\n",
    "\n",
    "width_dp = [] \n",
    "height_dp = []\n",
    "pokemon = []\n",
    "\n",
    "width_tp = [] \n",
    "height_tp = []\n",
    "pokemontp = []\n",
    "\n",
    "\n",
    "path_testpoints = \"/mnt/c/Users/danie/OneDrive/Skrivbord/labb2/testpoints3.txt\"\n",
    "with open(path_testpoints) as f:\n",
    "    next(f)\n",
    "    for line in f:\n",
    "        row = line.strip().split(\",\")\n",
    "        width_tp.append(float(row[0]))\n",
    "        height_tp.append(float(row[1]))\n",
    "        pokemontp.append(int(row[2]))\n",
    "print(width_tp)\n",
    "print(height_tp)\n",
    "print(pokemontp)"
   ]
  },
  {
   "cell_type": "code",
   "execution_count": null,
   "id": "d2b60c9c",
   "metadata": {},
   "outputs": [],
   "source": []
  }
 ],
 "metadata": {
  "kernelspec": {
   "display_name": ".venv",
   "language": "python",
   "name": "python3"
  },
  "language_info": {
   "codemirror_mode": {
    "name": "ipython",
    "version": 3
   },
   "file_extension": ".py",
   "mimetype": "text/x-python",
   "name": "python",
   "nbconvert_exporter": "python",
   "pygments_lexer": "ipython3",
   "version": "3.12.3"
  }
 },
 "nbformat": 4,
 "nbformat_minor": 5
}
