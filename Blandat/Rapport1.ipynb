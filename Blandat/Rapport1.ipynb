{
 "cells": [
  {
   "cell_type": "markdown",
   "id": "387ef779",
   "metadata": {},
   "source": [
    "# Rapport - Labb 3\n",
    "\n",
    "## Metod\n",
    "\n",
    "I denna rapport ska jag kort och enkelt gå igenom hur jag klassificerar datan i unlabelled_data.csv. Målet är att dela upp datan så jämnt som möjligt genom att dra en linje genom klustren av punkter enligt formeln **y = kx + m**. Sen ska vi testa tre andra linjer för att se vilken som delar klustern bäst.\n",
    "Jag valde linjen y = -1x + 0 som min linje, de andra tre är:\n",
    "- *f(x) = -0.489x*\n",
    "- *g(x) = -2x + 0.16*\n",
    "- *h(x) = 800x - 120*h"
   ]
  },
  {
   "cell_type": "markdown",
   "id": "e52078eb",
   "metadata": {},
   "source": [
    "Efter det så skapade jag en funktion som kan klassificera om en punkt ligger över eller under linjen. Då *h-linjen* är motsatt de andra (positiv) så la jag till en flip, eller invertering.\n",
    "Här lagrar vi linjernas matematiska formler i en dictionary och bestämmer om den ska invertera eller inte och sen klassificeras punkterna för varje linje."
   ]
  },
  {
   "cell_type": "code",
   "execution_count": null,
   "id": "f7ff5295",
   "metadata": {},
   "outputs": [],
   "source": [
    "#  Funktion för att avgöra om punkt ligger ovan eller under linje \n",
    "def is_above(y_point, y_line, flip_sign=False):\n",
    "    return int(y_point < y_line) if flip_sign else int(y_point > y_line)\n",
    "\n",
    "#  Samling av linjära funktioner i dictionary \n",
    "lines = {\n",
    "    \"Line_y\": {\"expr\": lambda x: -1 * x, \"invert\": False, \"label\": \"Line_y: y = -1x + 0\"},\n",
    "    \"Line_f\": {\"expr\": lambda x: -0.489 * x, \"invert\": False, \"label\": \"Line_f: f(x) = -0.489x\"},\n",
    "    \"Line_g\": {\"expr\": lambda x: -2 * x + 0.16, \"invert\": False, \"label\": \"Line_g: g(x) = -2x + 0.16\"},\n",
    "    \"Line_h\": {\"expr\": lambda x: 800 * x - 120, \"invert\": True, \"label\": \"Line_h: h(x) = 800x - 120\"},}\n",
    "\n",
    "#  Klassificera punkter för varje linje \n",
    "for key, info in lines.items():\n",
    "    df[f\"cls_{key}\"] = df.apply(lambda row: is_above(row[\"y_val\"], info[\"expr\"](row[\"x_val\"]), flip_sign=info[\"invert\"]),axis=1)"
   ]
  },
  {
   "cell_type": "markdown",
   "id": "25642f73",
   "metadata": {},
   "source": [
    "Här ser man hur plottningen är gjord:"
   ]
  },
  {
   "cell_type": "code",
   "execution_count": null,
   "id": "48d9828c",
   "metadata": {},
   "outputs": [],
   "source": [
    "# Färgkarta baserat på första linjens klassificering \n",
    "colors = np.where(df[\"cls_Line_y\"] == 1, \"hotpink\", \"cyan\")\n",
    "\n",
    "# Rita punkterna och alla linjer \n",
    "x_limits = np.array([df[\"x_val\"].min(), df[\"x_val\"].max()])\n",
    "\n",
    "plt.figure(figsize=(8, 6))\n",
    "plt.scatter(df[\"x_val\"], df[\"y_val\"], c=colors)\n",
    "\n",
    "for key, info in lines.items():\n",
    "    plt.plot(x_limits, info[\"expr\"](x_limits), label=info[\"label\"])\n",
    "\n",
    "plt.xlabel(\"x\")\n",
    "plt.ylabel(\"y\")\n",
    "plt.title(\"Point Classification Overview\")\n",
    "plt.legend()\n",
    "plt.ylim(df[\"y_val\"].min() - 1, df[\"y_val\"].max() + 1)\n",
    "plt.show()\n",
    "\n",
    "\n",
    "# Funktion för att rita en specifik linje med dess färgning\n",
    "def display_line(line_key, color_line=\"black\"):\n",
    "    labels = df[f\"cls_{line_key}\"]\n",
    "    color_map = [\"hotpink\" if val == 1 else \"cyan\" for val in labels]\n",
    "    plt.scatter(df[\"x_val\"], df[\"y_val\"], c=color_map)\n",
    "    plt.plot(x_limits, lines[line_key][\"expr\"](x_limits), color=color_line, label=lines[line_key][\"label\"])\n",
    "    plt.xlabel(\"x\")\n",
    "    plt.ylabel(\"y\")\n",
    "    plt.title(f\"Classification using {line_key}\")\n",
    "    plt.legend()\n",
    "    plt.ylim(df[\"y_val\"].min() - 1, df[\"y_val\"].max() + 1)\n",
    "    plt.show()"
   ]
  },
  {
   "cell_type": "markdown",
   "id": "f252aa9b",
   "metadata": {},
   "source": [
    " Här kan man se hur de olika linjerna skär grafen och indelningen av punkter:\n",
    "![alt text](../../output1.png)\n",
    "\n",
    "Som man kan utläsa nedan så är *f-linjens* och *g-linjens* separering väldigt lik min egna linje, även snäppet bättre medans *h-linjen* varierar mest.\n",
    "\n"
   ]
  },
  {
   "cell_type": "code",
   "execution_count": null,
   "id": "0bd805f8",
   "metadata": {},
   "outputs": [],
   "source": [
    "\n",
    "# Utskrifter av klassificeringsjämförelser\n",
    "print(\"Differences in classification relative to Line_y\")\n",
    "for other in [\"Line_f\", \"Line_g\", \"Line_h\"]:\n",
    "    diff_count = np.sum(df[f\"cls_{other}\"] != df[\"cls_Line_y\"])\n",
    "    print(f\"{other}: {diff_count} points differ from Line_y\")\n",
    "\n",
    "print(\"\\nCount of above (pink) points per line\")\n",
    "for key in lines.keys():\n",
    "    total_pink = np.sum(df[f\"cls_{key}\"])\n",
    "    print(f\"{key}: {total_pink} pink points out of {n_total}\")\n"
   ]
  },
  {
   "cell_type": "markdown",
   "id": "c118e217",
   "metadata": {},
   "source": [
    "Här kan man se hur de olika linjerna skär grafen och indelningen av punkter:\n",
    "\n",
    "Som man kan utläsa nedan så är *f-linjens* och *g-linjens* separering väldigt lik min egna linje, även snäppet bättre medans *h-linjen* varierar mest.\n",
    "\n",
    "#### Differences in classification relative to Line_y\n",
    "**Line_f:** *1 points differ from Line_y*\n",
    "**Line_g:** *1 points differ from Line_y*\n",
    "**Line_h:** *6 points differ from Line_y*\n",
    "\n",
    "Count of above (pink) points per line\n",
    "**Line_y:** *302 pink points out of 600*\n",
    "**Line_f:** *301 pink points out of 600*\n",
    "**Line_g:** *301 pink points out of 600*\n",
    "**Line_h:** *298 pink points out of 600*\n",
    "\n",
    "## Slutsats\n",
    "\n",
    "Dom som separerar det bäst (om man är ute efter en separering på 50/50) är *f- och g-linjerna*, tätt följt av min egna linje, största variationen kommer från *h-linjen* där det skiljer 6 punkter men detta är efter att vi inverterat den linjen så att den ger samma färger som de andra. Utan detta hade dom skilt sig avsevärt mer då 1or hade blivit 0or och tvärtom. Detta kanske inte påverkar så mycket om målet är att separera efter 50/50 men hade vi klassificerat efter säg pikachu/pichu som i LABB 2 hade det påverkat klassificeringen väldigt mycket.\n",
    "Men då målet är att separera grupperna så jämnt som möjligt (50/50) blir *f- och g-linjerna* klart dom bästa på det."
   ]
  },
  {
   "cell_type": "code",
   "execution_count": null,
   "id": "34c62128",
   "metadata": {},
   "outputs": [],
   "source": []
  }
 ],
 "metadata": {
  "kernelspec": {
   "display_name": ".venv",
   "language": "python",
   "name": "python3"
  },
  "language_info": {
   "codemirror_mode": {
    "name": "ipython",
    "version": 3
   },
   "file_extension": ".py",
   "mimetype": "text/x-python",
   "name": "python",
   "nbconvert_exporter": "python",
   "pygments_lexer": "ipython3",
   "version": "3.12.3"
  }
 },
 "nbformat": 4,
 "nbformat_minor": 5
}
