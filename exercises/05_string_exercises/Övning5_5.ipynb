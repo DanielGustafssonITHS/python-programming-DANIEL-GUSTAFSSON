{
 "cells": [
  {
   "cell_type": "code",
   "execution_count": null,
   "id": "7ac39c5c",
   "metadata": {},
   "outputs": [],
   "source": [
    "#Kryptering\n",
    "\n",
    "# GÖr en input där användaren får ange ett ord\n",
    "\n",
    "# gör en kryptering där varje bokstav i ordet byts till nästa bokstav i alfabetet\n",
    "\n",
    "# Avkryptera meddelandet.\n",
    "\n",
    "# låt användaren välja kryptering eller av kryptering"
   ]
  },
  {
   "cell_type": "code",
   "execution_count": 7,
   "id": "108bcbfb",
   "metadata": {},
   "outputs": [
    {
     "name": "stdout",
     "output_type": "stream",
     "text": [
      "Resultat: Jag heter Daniel\n"
     ]
    }
   ],
   "source": [
    "alphabet = \"abcdefghijklmnopqrstuvwxyzåäö\"\n",
    "\n",
    "choice = input(\"Vill du kryptera (k) eller dekryptera (d)? \").lower()\n",
    "word = input(\"Skriv texten: \")\n",
    "\n",
    "result = \"\"\n",
    "for ch in word:\n",
    "    if ch.lower() in alphabet:\n",
    "        index = alphabet.index(ch.lower())\n",
    "        if choice == \"k\":\n",
    "            new_index = (index + 1) % len(alphabet)\n",
    "        elif choice == \"d\":\n",
    "            new_index = (index - 1) % len(alphabet)\n",
    "        else:\n",
    "            print(\"Ogiltigt val.\")\n",
    "            exit()\n",
    "        new_char = alphabet[new_index]\n",
    "        if ch.isupper():\n",
    "            new_char = new_char.upper()\n",
    "        result += new_char\n",
    "    else:\n",
    "        result += ch  # lämna kvar tecken som inte är i alfabetet\n",
    "\n",
    "print(\"Resultat:\", result)"
   ]
  }
 ],
 "metadata": {
  "kernelspec": {
   "display_name": ".venv",
   "language": "python",
   "name": "python3"
  },
  "language_info": {
   "codemirror_mode": {
    "name": "ipython",
    "version": 3
   },
   "file_extension": ".py",
   "mimetype": "text/x-python",
   "name": "python",
   "nbconvert_exporter": "python",
   "pygments_lexer": "ipython3",
   "version": "3.12.3"
  }
 },
 "nbformat": 4,
 "nbformat_minor": 5
}
