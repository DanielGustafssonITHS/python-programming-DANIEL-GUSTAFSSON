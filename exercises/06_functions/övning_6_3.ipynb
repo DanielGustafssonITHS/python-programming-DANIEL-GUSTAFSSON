{
 "cells": [
  {
   "cell_type": "code",
   "execution_count": null,
   "id": "f7e9616a",
   "metadata": {},
   "outputs": [],
   "source": [
    "import numpy as np\n",
    "import matplotlib.pyplot as plt\n",
    "\n",
    "\n",
    "x = np.linspace(-10,10)\n",
    "\n",
    "def"
   ]
  }
 ],
 "metadata": {
  "language_info": {
   "name": "python"
  }
 },
 "nbformat": 4,
 "nbformat_minor": 5
}
