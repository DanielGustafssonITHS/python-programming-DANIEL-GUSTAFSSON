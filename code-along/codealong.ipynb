{
 "cells": [
  {
   "cell_type": "code",
   "execution_count": null,
   "id": "75e2629c",
   "metadata": {},
   "outputs": [],
   "source": [
    "class NonstandardInt:\n",
    "    def __init__(self,num_str):\n",
    "        self.num_str = sum_str\n",
    "\n",
    "    def __repr__(self):\n",
    "        return repr(len(self.num_str))\n",
    "\n",
    "    def __add__(Self, other):\n",
    "        if not isinstance(o+ther, NonstandardInt):\n",
    "            raise ValueError(f\"Can't add {repr(other)} to NonstandardInt\")\n",
    "        return NonstandardInt(\" \" * (len(other) + len(self.num_str)))\n",
    "    def __len__(self):\n",
    "        return len(self.num_str)                          \n",
    "\n",
    "a = NonstandardInt(\"    \")\n",
    "print(a)       \n",
    "b = NonstandardInt(\"htu\")\n",
    "print(a+b)          "
   ]
  }
 ],
 "metadata": {
  "language_info": {
   "name": "python"
  }
 },
 "nbformat": 4,
 "nbformat_minor": 5
}
